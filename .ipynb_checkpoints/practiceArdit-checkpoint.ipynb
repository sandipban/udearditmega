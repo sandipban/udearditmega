{
 "cells": [
  {
   "cell_type": "code",
   "execution_count": 1,
   "metadata": {},
   "outputs": [
    {
     "name": "stdout",
     "output_type": "stream",
     "text": [
      "20 30 40\n",
      "90\n"
     ]
    }
   ],
   "source": [
    "x = 20\n",
    "y = 30\n",
    "z = 40\n",
    "s = (x+y+z)  \n",
    "print(x, y,z)\n",
    "print(s)"
   ]
  },
  {
   "cell_type": "code",
   "execution_count": 1,
   "metadata": {},
   "outputs": [
    {
     "name": "stdout",
     "output_type": "stream",
     "text": [
      "7.800000000000002\n",
      "9.2\n",
      "3\n"
     ]
    }
   ],
   "source": [
    "student_score = [8.7, 9.2, 4.1, 5.3,8.9,9.2,9.2]\n",
    "totalscore = sum(student_score)\n",
    "length = len(student_score)\n",
    "avg_score = totalscore/length\n",
    "maxval = max(student_score)\n",
    "# Counting a particular score in an array.\n",
    "total_count = student_score.count(9.2)\n",
    "print(avg_score)\n",
    "print(maxval)\n",
    "print(total_count)"
   ]
  },
  {
   "cell_type": "code",
   "execution_count": 4,
   "metadata": {},
   "outputs": [
    {
     "name": "stdout",
     "output_type": "stream",
     "text": [
      "PYTHON3\n",
      "Python3\n"
     ]
    }
   ],
   "source": [
    "#Coding execise 9\n",
    "username = \"python3\"\n",
    "print(username.upper())\n",
    "print(username.title())"
   ]
  },
  {
   "cell_type": "code",
   "execution_count": 7,
   "metadata": {},
   "outputs": [
    {
     "name": "stdout",
     "output_type": "stream",
     "text": [
      "8.8\n"
     ]
    }
   ],
   "source": [
    "# Creating a Dictionary\n",
    "student_grade = {\"Ram\": 8.7, \"Shyam\": 7.9, \"Jadu\": 9.8 }\n",
    "grade_sum = sum(student_grade.values())\n",
    "noOfstd = len(student_grade)\n",
    "avg = grade_sum/noOfstd\n",
    "print(avg)"
   ]
  },
  {
   "cell_type": "code",
   "execution_count": 9,
   "metadata": {},
   "outputs": [
    {
     "name": "stdout",
     "output_type": "stream",
     "text": [
      "[1, 2, 3, 4, 5, 6, 7, 8, 9, 10, 11]\n",
      "[1, 2, 3, 4, 5, 6, 7, 8, 9, 10]\n",
      "7\n",
      "8 4 10\n",
      "dict_items([('morning', (7.8, 9.8, 4.4)), ('noon', (6.8, 8.9, 5.8)), ('evening', (5.6, 6.5, 6.0))])\n"
     ]
    }
   ],
   "source": [
    "# Coding exercise 12\n",
    "day_temperatures ={'morning' : (7.8, 9.8, 4.4), 'noon' : (6.8, 8.9, 5.8), 'evening': (5.6, 6.5, 6.0)}\n",
    "l = [x for x in range(1,11)]\n",
    "l.append(11)\n",
    "print(l)\n",
    "l.remove(11)\n",
    "print(l)\n",
    "print(l.index(8))\n",
    "# Coding Exercise 16\n",
    "print(l[7], l[3], l[9])\n",
    "print(day_temperatures.items())"
   ]
  },
  {
   "cell_type": "code",
   "execution_count": 6,
   "metadata": {},
   "outputs": [
    {
     "name": "stdout",
     "output_type": "stream",
     "text": [
      "361\n"
     ]
    }
   ],
   "source": [
    "# Coding exercise 23\n",
    "def square(length):\n",
    "    area = length * length \n",
    "    return area\n",
    "\n",
    "side = 19\n",
    "print(square(side))\n"
   ]
  },
  {
   "cell_type": "code",
   "execution_count": 7,
   "metadata": {},
   "outputs": [
    {
     "name": "stdout",
     "output_type": "stream",
     "text": [
      "8.8\n",
      "33.0\n",
      "Enter your name : Sandip\n",
      "Hello Sandip!\n"
     ]
    }
   ],
   "source": [
    "def meanvalue(value):\n",
    "      if isinstance(value, dict):\n",
    "          mean = sum(value.values())/len(value)\n",
    "      else:\n",
    "          mean = sum(value)/len(value)\n",
    "      return mean\n",
    "      \n",
    "student_grade = {\"Ram\": 8.7, \"Shyam\": 7.9, \"Jadu\": 9.8 }\n",
    "random_number = [25,24,63,20]\n",
    "print(meanvalue(student_grade))\n",
    "print(meanvalue(random_number))\n",
    "user_input = input(\"Enter your name : \")\n",
    "msg = 'Hello %s!' %user_input\n",
    "print(msg)"
   ]
  },
  {
   "cell_type": "code",
   "execution_count": 5,
   "metadata": {},
   "outputs": [
    {
     "name": "stdout",
     "output_type": "stream",
     "text": [
      "54\n",
      "54\n",
      "John Smith: 0037682929928\n",
      "Marry Simpons: 00423998200919\n"
     ]
    }
   ],
   "source": [
    "colors = [11, 34.1, 98.2, 43, 45.1, 54, 54]\n",
    "for color in colors:\n",
    "    if isinstance(color, int) and color >50 :\n",
    "        print(color)\n",
    "phone_numbers = {\"John Smith\": \"+37682929928\", \"Marry Simpons\": \"+423998200919\"}\n",
    "for key, value in phone_numbers.items():\n",
    "    print(f'{key}: 00{value[1:]}')"
   ]
  },
  {
   "cell_type": "code",
   "execution_count": 2,
   "metadata": {},
   "outputs": [
    {
     "name": "stdout",
     "output_type": "stream",
     "text": [
      "Say something: \\end\n",
      "\n"
     ]
    }
   ],
   "source": [
    "#Problem 55\n",
    "def formatter(user_input):\n",
    "    user_input = user_input.capitalize()\n",
    "    qtn = ('Who','Why', 'When', 'What', 'How')\n",
    "    if user_input.startswith(qtn):\n",
    "        return (f'{user_input}?')\n",
    "    else:\n",
    "        return (f'{user_input}.')\n",
    "    \n",
    "\n",
    "output = []\n",
    "while True:\n",
    "    user_input = input('Say something: ')\n",
    "    if user_input == '\\end':\n",
    "        break\n",
    "    \n",
    "    else:\n",
    "        output.append(formatter(user_input))\n",
    "print(' '.join(output))"
   ]
  },
  {
   "cell_type": "code",
   "execution_count": 1,
   "metadata": {},
   "outputs": [
    {
     "name": "stdout",
     "output_type": "stream",
     "text": [
      "[25, 30, 0, 35, 0, 0, 1]\n"
     ]
    }
   ],
   "source": [
    "# Coding Exercise 36\n",
    "def num_only(lst):\n",
    "    new_lst = [l if not isinstance(l, str) else 0 for l in lst ]\n",
    "    return new_lst\n",
    "\n",
    "print(num_only([25, 30, 'ho', 35, 'go', 0, 1]))\n",
    "    "
   ]
  },
  {
   "cell_type": "code",
   "execution_count": 4,
   "metadata": {},
   "outputs": [
    {
     "name": "stdout",
     "output_type": "stream",
     "text": [
      "6.7\n"
     ]
    }
   ],
   "source": [
    "# Coding exercise 39\n",
    "def sumstrings(lst):\n",
    "    return sum([float(l) for l in lst])\n",
    "\n",
    "print(sumstrings(['1.2', '2.2', '3.3']))"
   ]
  },
  {
   "cell_type": "code",
   "execution_count": 9,
   "metadata": {},
   "outputs": [
    {
     "name": "stdout",
     "output_type": "stream",
     "text": [
      "25\n",
      "AAM, JADU, RAM, SHYAM\n",
      "25.0\n",
      "Sim\n"
     ]
    }
   ],
   "source": [
    "# Coding exercise 41\n",
    "def avg(*args):\n",
    "    return sum(args)/len(args)\n",
    "\n",
    "print (int(avg(20,10,30,40)))\n",
    "\n",
    "def stringsorter(*args):\n",
    "    args = sorted([x.upper()for x in args])\n",
    "    return ','' '.join(args)\n",
    "print(stringsorter('ram', 'shyam', 'jadu','aam'))\n",
    "\n",
    "## KWARGS demmo\n",
    "\n",
    "def findmean(**kwargs):\n",
    "    return sum(kwargs.values()) / len(kwargs)\n",
    "\n",
    "print(findmean(a=10,b=20,c=30,d=40))\n",
    "\n",
    "## Very Very Important example#############\n",
    "def find_winner(**kwargs):\n",
    "    return max(kwargs, key = kwargs.get)\n",
    "     \n",
    "print(find_winner(Andy = 17, Marry = 19, Sim = 45, Kae = 34))   "
   ]
  },
  {
   "cell_type": "code",
   "execution_count": 1,
   "metadata": {
    "tags": []
   },
   "outputs": [
    {
     "name": "stdout",
     "output_type": "stream",
     "text": [
      "The American black bear (Ursus americanus) is a medium-sized bear native to North America. The American black bear (Ursus americanus) is a medium-sized bear native to North America. The American black bear (Ursus americanus) is a medium-sized bear native to North America. \n"
     ]
    }
   ],
   "source": [
    "########File Handling################\n",
    "# myfile = open('bear.txt')\n",
    "# print(myfile.read())\n",
    "# with open('bear.txt') as myfile:\n",
    "#     content = myfile.read() \n",
    "# print(content[ :91])\n",
    "# print(content)\n",
    "\n",
    "################# Coding Exercise 46 ##############\n",
    "\n",
    "# def count_ch(ch, filepath = 'bear.txt'):\n",
    "#     with open(filepath) as content:\n",
    "#         file = content.read()\n",
    "#         return file.count(ch)\n",
    "# #     file = open(filepath)\n",
    "# #     content = file.read()\n",
    "# #     return content.count(ch)\n",
    "    \n",
    "# print(count_ch('z'))\n",
    "    \n",
    "def readwrite(x, y):\n",
    "    with open (x) as content:\n",
    "        file = content.read()[:91]\n",
    "        \n",
    "    \n",
    "    with open(y,'a+') as new:\n",
    "        new.write(file)\n",
    "        new.seek(0)\n",
    "        content_one = new.read()\n",
    "    return content_one\n",
    " \n",
    "print(readwrite('bear.txt', 'first.txt')) "
   ]
  },
  {
   "cell_type": "code",
   "execution_count": 8,
   "metadata": {},
   "outputs": [
    {
     "data": {
      "text/plain": [
       "['first.txt',\n",
       " '.ipynb_checkpoints',\n",
       " 'supermarkets-commas.txt',\n",
       " 'supermarkets-semi-colons.txt',\n",
       " 'supermarkets.csv',\n",
       " 'supermarkets.xlsx',\n",
       " 'bear1.txt',\n",
       " 'data.txt',\n",
       " 'one',\n",
       " 'practiceArdit.ipynb',\n",
       " 'onepymysl',\n",
       " 'supermarkets.json',\n",
       " 'original.csv',\n",
       " 'prc.py',\n",
       " 'bear.txt']"
      ]
     },
     "execution_count": 8,
     "metadata": {},
     "output_type": "execute_result"
    }
   ],
   "source": [
    "import pandas\n",
    "import sys\n",
    "import os\n",
    "os.listdir()"
   ]
  },
  {
   "cell_type": "code",
   "execution_count": 9,
   "metadata": {},
   "outputs": [
    {
     "data": {
      "text/html": [
       "<div>\n",
       "<style scoped>\n",
       "    .dataframe tbody tr th:only-of-type {\n",
       "        vertical-align: middle;\n",
       "    }\n",
       "\n",
       "    .dataframe tbody tr th {\n",
       "        vertical-align: top;\n",
       "    }\n",
       "\n",
       "    .dataframe thead th {\n",
       "        text-align: right;\n",
       "    }\n",
       "</style>\n",
       "<table border=\"1\" class=\"dataframe\">\n",
       "  <thead>\n",
       "    <tr style=\"text-align: right;\">\n",
       "      <th></th>\n",
       "      <th>Address</th>\n",
       "      <th>City</th>\n",
       "      <th>Country</th>\n",
       "      <th>Employees</th>\n",
       "      <th>ID</th>\n",
       "      <th>Name</th>\n",
       "      <th>State</th>\n",
       "    </tr>\n",
       "  </thead>\n",
       "  <tbody>\n",
       "    <tr>\n",
       "      <th>0</th>\n",
       "      <td>3666 21st St</td>\n",
       "      <td>San Francisco</td>\n",
       "      <td>USA</td>\n",
       "      <td>8</td>\n",
       "      <td>1</td>\n",
       "      <td>Madeira</td>\n",
       "      <td>CA 94114</td>\n",
       "    </tr>\n",
       "    <tr>\n",
       "      <th>1</th>\n",
       "      <td>735 Dolores St</td>\n",
       "      <td>San Francisco</td>\n",
       "      <td>USA</td>\n",
       "      <td>15</td>\n",
       "      <td>2</td>\n",
       "      <td>Bready Shop</td>\n",
       "      <td>CA 94119</td>\n",
       "    </tr>\n",
       "    <tr>\n",
       "      <th>2</th>\n",
       "      <td>332 Hill St</td>\n",
       "      <td>San Francisco</td>\n",
       "      <td>USA</td>\n",
       "      <td>25</td>\n",
       "      <td>3</td>\n",
       "      <td>Super River</td>\n",
       "      <td>California 94114</td>\n",
       "    </tr>\n",
       "    <tr>\n",
       "      <th>3</th>\n",
       "      <td>3995 23rd St</td>\n",
       "      <td>San Francisco</td>\n",
       "      <td>USA</td>\n",
       "      <td>10</td>\n",
       "      <td>4</td>\n",
       "      <td>Ben's Shop</td>\n",
       "      <td>CA 94114</td>\n",
       "    </tr>\n",
       "    <tr>\n",
       "      <th>4</th>\n",
       "      <td>1056 Sanchez St</td>\n",
       "      <td>San Francisco</td>\n",
       "      <td>USA</td>\n",
       "      <td>12</td>\n",
       "      <td>5</td>\n",
       "      <td>Sanchez</td>\n",
       "      <td>California</td>\n",
       "    </tr>\n",
       "    <tr>\n",
       "      <th>5</th>\n",
       "      <td>551 Alvarado St</td>\n",
       "      <td>San Francisco</td>\n",
       "      <td>USA</td>\n",
       "      <td>20</td>\n",
       "      <td>6</td>\n",
       "      <td>Richvalley</td>\n",
       "      <td>CA 94114</td>\n",
       "    </tr>\n",
       "  </tbody>\n",
       "</table>\n",
       "</div>"
      ],
      "text/plain": [
       "           Address           City Country  Employees  ID         Name  \\\n",
       "0     3666 21st St  San Francisco     USA          8   1      Madeira   \n",
       "1   735 Dolores St  San Francisco     USA         15   2  Bready Shop   \n",
       "2      332 Hill St  San Francisco     USA         25   3  Super River   \n",
       "3     3995 23rd St  San Francisco     USA         10   4   Ben's Shop   \n",
       "4  1056 Sanchez St  San Francisco     USA         12   5      Sanchez   \n",
       "5  551 Alvarado St  San Francisco     USA         20   6   Richvalley   \n",
       "\n",
       "              State  \n",
       "0          CA 94114  \n",
       "1          CA 94119  \n",
       "2  California 94114  \n",
       "3          CA 94114  \n",
       "4        California  \n",
       "5          CA 94114  "
      ]
     },
     "execution_count": 9,
     "metadata": {},
     "output_type": "execute_result"
    }
   ],
   "source": [
    "import pandas\n",
    "df1 = pandas.read_json('supermarkets.json')\n",
    "df1"
   ]
  },
  {
   "cell_type": "code",
   "execution_count": 12,
   "metadata": {},
   "outputs": [
    {
     "data": {
      "text/html": [
       "<div>\n",
       "<style scoped>\n",
       "    .dataframe tbody tr th:only-of-type {\n",
       "        vertical-align: middle;\n",
       "    }\n",
       "\n",
       "    .dataframe tbody tr th {\n",
       "        vertical-align: top;\n",
       "    }\n",
       "\n",
       "    .dataframe thead th {\n",
       "        text-align: right;\n",
       "    }\n",
       "</style>\n",
       "<table border=\"1\" class=\"dataframe\">\n",
       "  <thead>\n",
       "    <tr style=\"text-align: right;\">\n",
       "      <th></th>\n",
       "      <th>ID</th>\n",
       "      <th>Address</th>\n",
       "      <th>City</th>\n",
       "      <th>State</th>\n",
       "      <th>Country</th>\n",
       "      <th>Supermarket Name</th>\n",
       "      <th>Number of Employees</th>\n",
       "    </tr>\n",
       "  </thead>\n",
       "  <tbody>\n",
       "    <tr>\n",
       "      <th>0</th>\n",
       "      <td>1</td>\n",
       "      <td>3666 21st St</td>\n",
       "      <td>San Francisco</td>\n",
       "      <td>CA 94114</td>\n",
       "      <td>USA</td>\n",
       "      <td>Madeira</td>\n",
       "      <td>8</td>\n",
       "    </tr>\n",
       "    <tr>\n",
       "      <th>1</th>\n",
       "      <td>2</td>\n",
       "      <td>735 Dolores St</td>\n",
       "      <td>San Francisco</td>\n",
       "      <td>CA 94119</td>\n",
       "      <td>USA</td>\n",
       "      <td>Bready Shop</td>\n",
       "      <td>15</td>\n",
       "    </tr>\n",
       "    <tr>\n",
       "      <th>2</th>\n",
       "      <td>3</td>\n",
       "      <td>332 Hill St</td>\n",
       "      <td>San Francisco</td>\n",
       "      <td>California 94114</td>\n",
       "      <td>USA</td>\n",
       "      <td>Super River</td>\n",
       "      <td>25</td>\n",
       "    </tr>\n",
       "    <tr>\n",
       "      <th>3</th>\n",
       "      <td>4</td>\n",
       "      <td>3995 23rd St</td>\n",
       "      <td>San Francisco</td>\n",
       "      <td>CA 94114</td>\n",
       "      <td>USA</td>\n",
       "      <td>Ben's Shop</td>\n",
       "      <td>10</td>\n",
       "    </tr>\n",
       "    <tr>\n",
       "      <th>4</th>\n",
       "      <td>5</td>\n",
       "      <td>1056 Sanchez St</td>\n",
       "      <td>San Francisco</td>\n",
       "      <td>California</td>\n",
       "      <td>USA</td>\n",
       "      <td>Sanchez</td>\n",
       "      <td>12</td>\n",
       "    </tr>\n",
       "    <tr>\n",
       "      <th>5</th>\n",
       "      <td>6</td>\n",
       "      <td>551 Alvarado St</td>\n",
       "      <td>San Francisco</td>\n",
       "      <td>CA 94114</td>\n",
       "      <td>USA</td>\n",
       "      <td>Richvalley</td>\n",
       "      <td>20</td>\n",
       "    </tr>\n",
       "  </tbody>\n",
       "</table>\n",
       "</div>"
      ],
      "text/plain": [
       "   ID          Address           City             State Country  \\\n",
       "0   1     3666 21st St  San Francisco          CA 94114     USA   \n",
       "1   2   735 Dolores St  San Francisco          CA 94119     USA   \n",
       "2   3      332 Hill St  San Francisco  California 94114     USA   \n",
       "3   4     3995 23rd St  San Francisco          CA 94114     USA   \n",
       "4   5  1056 Sanchez St  San Francisco        California     USA   \n",
       "5   6  551 Alvarado St  San Francisco          CA 94114     USA   \n",
       "\n",
       "  Supermarket Name  Number of Employees  \n",
       "0          Madeira                    8  \n",
       "1      Bready Shop                   15  \n",
       "2      Super River                   25  \n",
       "3       Ben's Shop                   10  \n",
       "4          Sanchez                   12  \n",
       "5       Richvalley                   20  "
      ]
     },
     "execution_count": 12,
     "metadata": {},
     "output_type": "execute_result"
    }
   ],
   "source": [
    "df1 = pandas.read_excel('supermarkets.xlsx')\n",
    "df1"
   ]
  },
  {
   "cell_type": "code",
   "execution_count": 16,
   "metadata": {},
   "outputs": [
    {
     "data": {
      "text/html": [
       "<div>\n",
       "<style scoped>\n",
       "    .dataframe tbody tr th:only-of-type {\n",
       "        vertical-align: middle;\n",
       "    }\n",
       "\n",
       "    .dataframe tbody tr th {\n",
       "        vertical-align: top;\n",
       "    }\n",
       "\n",
       "    .dataframe thead th {\n",
       "        text-align: right;\n",
       "    }\n",
       "</style>\n",
       "<table border=\"1\" class=\"dataframe\">\n",
       "  <thead>\n",
       "    <tr style=\"text-align: right;\">\n",
       "      <th></th>\n",
       "      <th>ID</th>\n",
       "      <th>Address</th>\n",
       "      <th>City</th>\n",
       "      <th>State</th>\n",
       "      <th>Country</th>\n",
       "      <th>Name</th>\n",
       "      <th>Employees</th>\n",
       "    </tr>\n",
       "  </thead>\n",
       "  <tbody>\n",
       "    <tr>\n",
       "      <th>0</th>\n",
       "      <td>1</td>\n",
       "      <td>3666 21st St</td>\n",
       "      <td>San Francisco</td>\n",
       "      <td>CA 94114</td>\n",
       "      <td>USA</td>\n",
       "      <td>Madeira</td>\n",
       "      <td>8</td>\n",
       "    </tr>\n",
       "    <tr>\n",
       "      <th>1</th>\n",
       "      <td>2</td>\n",
       "      <td>735 Dolores St</td>\n",
       "      <td>San Francisco</td>\n",
       "      <td>CA 94119</td>\n",
       "      <td>USA</td>\n",
       "      <td>Bready Shop</td>\n",
       "      <td>15</td>\n",
       "    </tr>\n",
       "    <tr>\n",
       "      <th>2</th>\n",
       "      <td>3</td>\n",
       "      <td>332 Hill St</td>\n",
       "      <td>San Francisco</td>\n",
       "      <td>California 94114</td>\n",
       "      <td>USA</td>\n",
       "      <td>Super River</td>\n",
       "      <td>25</td>\n",
       "    </tr>\n",
       "    <tr>\n",
       "      <th>3</th>\n",
       "      <td>4</td>\n",
       "      <td>3995 23rd St</td>\n",
       "      <td>San Francisco</td>\n",
       "      <td>CA 94114</td>\n",
       "      <td>USA</td>\n",
       "      <td>Ben's Shop</td>\n",
       "      <td>10</td>\n",
       "    </tr>\n",
       "    <tr>\n",
       "      <th>4</th>\n",
       "      <td>5</td>\n",
       "      <td>1056 Sanchez St</td>\n",
       "      <td>San Francisco</td>\n",
       "      <td>California</td>\n",
       "      <td>USA</td>\n",
       "      <td>Sanchez</td>\n",
       "      <td>12</td>\n",
       "    </tr>\n",
       "    <tr>\n",
       "      <th>5</th>\n",
       "      <td>6</td>\n",
       "      <td>551 Alvarado St</td>\n",
       "      <td>San Francisco</td>\n",
       "      <td>CA 94114</td>\n",
       "      <td>USA</td>\n",
       "      <td>Richvalley</td>\n",
       "      <td>20</td>\n",
       "    </tr>\n",
       "  </tbody>\n",
       "</table>\n",
       "</div>"
      ],
      "text/plain": [
       "   ID          Address           City             State Country          Name  \\\n",
       "0   1     3666 21st St  San Francisco          CA 94114     USA       Madeira   \n",
       "1   2   735 Dolores St  San Francisco          CA 94119     USA   Bready Shop   \n",
       "2   3      332 Hill St  San Francisco  California 94114     USA   Super River   \n",
       "3   4     3995 23rd St  San Francisco          CA 94114     USA    Ben's Shop   \n",
       "4   5  1056 Sanchez St  San Francisco        California     USA       Sanchez   \n",
       "5   6  551 Alvarado St  San Francisco          CA 94114     USA    Richvalley   \n",
       "\n",
       "   Employees  \n",
       "0          8  \n",
       "1         15  \n",
       "2         25  \n",
       "3         10  \n",
       "4         12  \n",
       "5         20  "
      ]
     },
     "execution_count": 16,
     "metadata": {},
     "output_type": "execute_result"
    }
   ],
   "source": [
    "df2 = pandas.read_csv('supermarkets-semi-colons.txt', sep = ';')\n",
    "df2"
   ]
  }
 ],
 "metadata": {
  "kernelspec": {
   "display_name": "Python 3",
   "language": "python",
   "name": "python3"
  },
  "language_info": {
   "codemirror_mode": {
    "name": "ipython",
    "version": 3
   },
   "file_extension": ".py",
   "mimetype": "text/x-python",
   "name": "python",
   "nbconvert_exporter": "python",
   "pygments_lexer": "ipython3",
   "version": "3.7.3"
  }
 },
 "nbformat": 4,
 "nbformat_minor": 2
}
